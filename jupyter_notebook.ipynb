{
 "cells": [
  {
   "cell_type": "code",
   "execution_count": 1,
   "id": "d8e90fdc",
   "metadata": {},
   "outputs": [],
   "source": [
    "import matplotlib.patheffects as path_effects\n",
    "import matplotlib.pyplot as plt\n",
    "import pandas as pd\n",
    "import seaborn as sns"
   ]
  },
  {
   "cell_type": "code",
   "execution_count": 2,
   "id": "06313d71",
   "metadata": {},
   "outputs": [],
   "source": [
    "#covid latest 14days infected building info\n",
    "url='https://www.chp.gov.hk/files/misc/building_list_eng.csv'\n",
    "df1=pd.read_csv(url)"
   ]
  },
  {
   "cell_type": "code",
   "execution_count": 3,
   "id": "ce45cc86",
   "metadata": {},
   "outputs": [
    {
     "data": {
      "text/html": [
       "<div>\n",
       "<style scoped>\n",
       "    .dataframe tbody tr th:only-of-type {\n",
       "        vertical-align: middle;\n",
       "    }\n",
       "\n",
       "    .dataframe tbody tr th {\n",
       "        vertical-align: top;\n",
       "    }\n",
       "\n",
       "    .dataframe thead th {\n",
       "        text-align: right;\n",
       "    }\n",
       "</style>\n",
       "<table border=\"1\" class=\"dataframe\">\n",
       "  <thead>\n",
       "    <tr style=\"text-align: right;\">\n",
       "      <th></th>\n",
       "      <th>District</th>\n",
       "      <th>Building name</th>\n",
       "      <th>Last date of visit of the case(s)</th>\n",
       "      <th>Related cases</th>\n",
       "    </tr>\n",
       "  </thead>\n",
       "  <tbody>\n",
       "    <tr>\n",
       "      <th>0</th>\n",
       "      <td>Central &amp; Western</td>\n",
       "      <td>The Richmond</td>\n",
       "      <td>NaN</td>\n",
       "      <td>NaN</td>\n",
       "    </tr>\n",
       "    <tr>\n",
       "      <th>1</th>\n",
       "      <td>Central &amp; Western</td>\n",
       "      <td>Samtoh Building</td>\n",
       "      <td>NaN</td>\n",
       "      <td>NaN</td>\n",
       "    </tr>\n",
       "    <tr>\n",
       "      <th>2</th>\n",
       "      <td>Central &amp; Western</td>\n",
       "      <td>Sum Way Mansion</td>\n",
       "      <td>NaN</td>\n",
       "      <td>NaN</td>\n",
       "    </tr>\n",
       "    <tr>\n",
       "      <th>3</th>\n",
       "      <td>Central &amp; Western</td>\n",
       "      <td>Chung Ah Mansion</td>\n",
       "      <td>NaN</td>\n",
       "      <td>NaN</td>\n",
       "    </tr>\n",
       "    <tr>\n",
       "      <th>4</th>\n",
       "      <td>Central &amp; Western</td>\n",
       "      <td>Central Mansion</td>\n",
       "      <td>NaN</td>\n",
       "      <td>NaN</td>\n",
       "    </tr>\n",
       "  </tbody>\n",
       "</table>\n",
       "</div>"
      ],
      "text/plain": [
       "            District     Building name  Last date of visit of the case(s)  \\\n",
       "0  Central & Western      The Richmond                                NaN   \n",
       "1  Central & Western   Samtoh Building                                NaN   \n",
       "2  Central & Western   Sum Way Mansion                                NaN   \n",
       "3  Central & Western  Chung Ah Mansion                                NaN   \n",
       "4  Central & Western   Central Mansion                                NaN   \n",
       "\n",
       "   Related cases  \n",
       "0            NaN  \n",
       "1            NaN  \n",
       "2            NaN  \n",
       "3            NaN  \n",
       "4            NaN  "
      ]
     },
     "execution_count": 3,
     "metadata": {},
     "output_type": "execute_result"
    }
   ],
   "source": [
    "#check data info\n",
    "\n",
    "df1.head()"
   ]
  },
  {
   "cell_type": "code",
   "execution_count": 4,
   "id": "a1970d72",
   "metadata": {},
   "outputs": [
    {
     "name": "stdout",
     "output_type": "stream",
     "text": [
      "<class 'pandas.core.frame.DataFrame'>\n",
      "RangeIndex: 4819 entries, 0 to 4818\n",
      "Data columns (total 4 columns):\n",
      " #   Column                             Non-Null Count  Dtype  \n",
      "---  ------                             --------------  -----  \n",
      " 0   District                           4819 non-null   object \n",
      " 1   Building name                      4819 non-null   object \n",
      " 2   Last date of visit of the case(s)  0 non-null      float64\n",
      " 3   Related cases                      0 non-null      float64\n",
      "dtypes: float64(2), object(2)\n",
      "memory usage: 150.7+ KB\n"
     ]
    }
   ],
   "source": [
    "df1.info()"
   ]
  },
  {
   "cell_type": "code",
   "execution_count": 5,
   "id": "2aedf6d9",
   "metadata": {},
   "outputs": [],
   "source": [
    "#data conversion\n",
    "\n",
    "large_to_small = df1.groupby('District').size().sort_values().index[::-1]"
   ]
  },
  {
   "cell_type": "code",
   "execution_count": 6,
   "id": "b6399a4b",
   "metadata": {},
   "outputs": [
    {
     "data": {
      "text/plain": [
       "(array([ 0,  1,  2,  3,  4,  5,  6,  7,  8,  9, 10, 11, 12, 13, 14, 15, 16,\n",
       "        17]),\n",
       " [Text(0, 0, 'Central & Western'),\n",
       "  Text(1, 0, 'Kwun Tong'),\n",
       "  Text(2, 0, 'Sha Tin'),\n",
       "  Text(3, 0, 'Eastern'),\n",
       "  Text(4, 0, 'Sham Shui Po'),\n",
       "  Text(5, 0, 'Yau Tsim Mong'),\n",
       "  Text(6, 0, 'Yuen Long'),\n",
       "  Text(7, 0, 'Wong Tai Sin'),\n",
       "  Text(8, 0, 'Wan Chai'),\n",
       "  Text(9, 0, 'Tsuen Wan'),\n",
       "  Text(10, 0, 'Tuen Mun'),\n",
       "  Text(11, 0, 'Kowloon City'),\n",
       "  Text(12, 0, 'Sai Kung'),\n",
       "  Text(13, 0, 'Kwai Tsing'),\n",
       "  Text(14, 0, 'North'),\n",
       "  Text(15, 0, 'Islands'),\n",
       "  Text(16, 0, 'Tai Po'),\n",
       "  Text(17, 0, 'Southern')])"
      ]
     },
     "execution_count": 6,
     "metadata": {},
     "output_type": "execute_result"
    },
    {
     "data": {
      "image/png": "[encoded data removed]",
      "text/plain": [
       "<Figure size 720x432 with 1 Axes>"
      ]
     },
     "metadata": {
      "needs_background": "light"
     },
     "output_type": "display_data"
    }
   ],
   "source": [
    "#config fig settings\n",
    "fig, ax = plt.subplots()\n",
    "fig.set_size_inches(10, 6)\n",
    "plt.title('No of cases by infected district', fontsize=10)\n",
    "ax = sns.countplot(x=\"District\", data=df1, palette=\"Set3\", order=large_to_small)\n",
    "plt.xticks(rotation=45)"
   ]
  },
  {
   "cell_type": "code",
   "execution_count": 7,
   "id": "eda3e19b",
   "metadata": {},
   "outputs": [],
   "source": [
    "str1 = 'Taikoo Shing'\n",
    "df1['b2']= df1['Building name'].str.upper()\n",
    "n_cases = df1['b2'].str.count(str1.upper()).sum().astype(str)"
   ]
  },
  {
   "cell_type": "code",
   "execution_count": 10,
   "id": "9e71f2f0",
   "metadata": {},
   "outputs": [
    {
     "data": {
      "text/plain": [
       "<Figure size 504x72 with 0 Axes>"
      ]
     },
     "metadata": {},
     "output_type": "display_data"
    }
   ],
   "source": [
    "#fig 2\n",
    "fig = plt.figure(figsize=(7, 1))\n",
    "text = fig.text(0.5, 0.5, n_cases, color='blue',\n",
    "                          ha='center', va='center', size=20)\n",
    "text.set_path_effects([path_effects.Stroke(linewidth=3, foreground='black'),\n",
    "                       path_effects.Normal()])\n",
    "plt.show()"
   ]
  },
  {
   "cell_type": "code",
   "execution_count": 9,
   "id": "4953449d",
   "metadata": {},
   "outputs": [
    {
     "name": "stdout",
     "output_type": "stream",
     "text": [
      "No of infected cases under Taikoo Shing : 19\n"
     ]
    }
   ],
   "source": [
    "\n",
    "print(f\"No of infected cases under {str1} : {n_cases}\")"
   ]
  },
  {
   "cell_type": "code",
   "execution_count": null,
   "id": "785d3906",
   "metadata": {},
   "outputs": [],
   "source": []
  }
 ],
 "metadata": {
  "kernelspec": {
   "display_name": "Python 3 (ipykernel)",
   "language": "python",
   "name": "python3"
  },
  "language_info": {
   "codemirror_mode": {
    "name": "ipython",
    "version": 3
   },
   "file_extension": ".py",
   "mimetype": "text/x-python",
   "name": "python",
   "nbconvert_exporter": "python",
   "pygments_lexer": "ipython3",
   "version": "3.10.1"
  }
 },
 "nbformat": 4,
 "nbformat_minor": 5
}
